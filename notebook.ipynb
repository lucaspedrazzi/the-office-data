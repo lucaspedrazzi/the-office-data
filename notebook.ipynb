{
 "metadata": {
  "language_info": {
   "codemirror_mode": {
    "name": "ipython",
    "version": 3
   },
   "file_extension": ".py",
   "mimetype": "text/x-python",
   "name": "python",
   "nbconvert_exporter": "python",
   "pygments_lexer": "ipython3",
   "version": "3.9.1-final"
  },
  "orig_nbformat": 2,
  "kernelspec": {
   "name": "python3",
   "display_name": "Python 3",
   "language": "python"
  }
 },
 "nbformat": 4,
 "nbformat_minor": 2,
 "cells": [
  {
   "cell_type": "code",
   "execution_count": 1,
   "metadata": {},
   "outputs": [],
   "source": [
    "import pandas as pd\n",
    "import matplotlib.pyplot as plt\n",
    "\n",
    "plt.rcParams['figure.figsize'] = [11, 7]"
   ]
  },
  {
   "cell_type": "code",
   "execution_count": 3,
   "metadata": {},
   "outputs": [
    {
     "output_type": "stream",
     "name": "stdout",
     "text": [
      "<class 'pandas.core.frame.DataFrame'>\nRangeIndex: 188 entries, 0 to 187\nData columns (total 14 columns):\n #   Column          Non-Null Count  Dtype         \n---  ------          --------------  -----         \n 0   episode_number  188 non-null    int64         \n 1   season          188 non-null    int64         \n 2   episode_title   188 non-null    object        \n 3   description     188 non-null    object        \n 4   ratings         188 non-null    float64       \n 5   votes           188 non-null    int64         \n 6   viewership_mil  188 non-null    float64       \n 7   duration        188 non-null    int64         \n 8   release_date    188 non-null    datetime64[ns]\n 9   guest_stars     29 non-null     object        \n 10  director        188 non-null    object        \n 11  writers         188 non-null    object        \n 12  has_guests      188 non-null    bool          \n 13  scaled_ratings  188 non-null    float64       \ndtypes: bool(1), datetime64[ns](1), float64(3), int64(4), object(5)\nmemory usage: 19.4+ KB\n"
     ]
    }
   ],
   "source": [
    "tv_data = pd.read_csv('dataset/office_episodes.csv', parse_dates=['release_date'])\n",
    "tv_data.info()"
   ]
  },
  {
   "cell_type": "code",
   "execution_count": 4,
   "metadata": {},
   "outputs": [],
   "source": [
    "colors = []\n",
    "for i, row in tv_data.iterrows():\n",
    "    if row['scaled_ratings'] < 0.25:\n",
    "        colors.append('red')\n",
    "    elif row['scaled_ratings'] < 0.50:\n",
    "        colors.append('orange')\n",
    "    elif row['scaled_ratings'] < 0.75:\n",
    "        colors.append('lightgreen')\n",
    "    else:\n",
    "        colors.append('darkgreen')\n",
    "\n",
    "sizes = []\n",
    "\n",
    "for i, row in tv_data.iterrows():\n",
    "    if row['has_guests'] == False:\n",
    "        sizes.append(25)\n",
    "    else:\n",
    "        sizes.append(250)"
   ]
  },
  {
   "cell_type": "code",
   "execution_count": 5,
   "metadata": {},
   "outputs": [
    {
     "output_type": "stream",
     "name": "stdout",
     "text": [
      "<class 'pandas.core.frame.DataFrame'>\nRangeIndex: 188 entries, 0 to 187\nData columns (total 16 columns):\n #   Column          Non-Null Count  Dtype         \n---  ------          --------------  -----         \n 0   episode_number  188 non-null    int64         \n 1   season          188 non-null    int64         \n 2   episode_title   188 non-null    object        \n 3   description     188 non-null    object        \n 4   ratings         188 non-null    float64       \n 5   votes           188 non-null    int64         \n 6   viewership_mil  188 non-null    float64       \n 7   duration        188 non-null    int64         \n 8   release_date    188 non-null    datetime64[ns]\n 9   guest_stars     29 non-null     object        \n 10  director        188 non-null    object        \n 11  writers         188 non-null    object        \n 12  has_guests      188 non-null    bool          \n 13  scaled_ratings  188 non-null    float64       \n 14  colors          188 non-null    object        \n 15  sizes           188 non-null    int64         \ndtypes: bool(1), datetime64[ns](1), float64(3), int64(5), object(6)\nmemory usage: 22.3+ KB\n"
     ]
    }
   ],
   "source": [
    "tv_data['colors'] = colors\n",
    "tv_data['sizes'] = sizes\n",
    "\n",
    "tv_data.info()"
   ]
  },
  {
   "cell_type": "code",
   "execution_count": 6,
   "metadata": {},
   "outputs": [],
   "source": [
    "non_guest_df = tv_data[tv_data['has_guests'] == False]\n",
    "guest_df = tv_data[tv_data['has_guests'] == True]"
   ]
  },
  {
   "cell_type": "code",
   "execution_count": null,
   "metadata": {},
   "outputs": [],
   "source": [
    "fig = plt.figure()\n",
    "plt.style.use('fivethirtyeight')\n",
    "\n",
    "plt.scatter(x=non_guest_df['episode_number'],\n",
    "            y=non_guest_df['viewership_mil'],\n",
    "           c=non_guest_df['colors'],\n",
    "           s=non_guest_df['sizes']\n",
    "           )\n",
    "\n",
    "plt.scatter(x=guest_df['episode_number'],\n",
    "            y=guest_df['viewership_mil'],\n",
    "            c=guest_df['colors'],\n",
    "            s=guest_df['sizes'],\n",
    "            marker='*'\n",
    "           )\n",
    "\n",
    "\n",
    "plt.title(\"Popularity, Quality, and Guest Appearances on the Office\")\n",
    "plt.xlabel(\"Episode Number\")\n",
    "plt.ylabel(\"Viewership (Millions)\")\n",
    "plt.show()"
   ]
  },
  {
   "cell_type": "code",
   "execution_count": 7,
   "metadata": {},
   "outputs": [
    {
     "output_type": "execute_result",
     "data": {
      "text/plain": [
       "77    Cloris Leachman, Jack Black, Jessica Alba\n",
       "Name: guest_stars, dtype: object"
      ]
     },
     "metadata": {},
     "execution_count": 7
    }
   ],
   "source": [
    "tv_data[tv_data['viewership_mil'] == tv_data['viewership_mil'].max()]['guest_stars']"
   ]
  }
 ]
}